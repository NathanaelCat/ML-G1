{
 "cells": [
  {
   "cell_type": "code",
   "execution_count": null,
   "id": "f95004fc",
   "metadata": {},
   "outputs": [],
   "source": [
    "print(\"Hello, World!\")"
   ]
  },
  {
   "cell_type": "markdown",
   "id": "2d7c1f4a",
   "metadata": {},
   "source": [
    "在終端 python -v 查看版本"
   ]
  },
  {
   "cell_type": "markdown",
   "id": "3df61756",
   "metadata": {},
   "source": [
    "基础语法："
   ]
  },
  {
   "cell_type": "code",
   "execution_count": null,
   "id": "bfb66b37",
   "metadata": {},
   "outputs": [],
   "source": [
    "#字符串\n",
    "str='0123456789'\n",
    "\n",
    "print(str * 2) #輸出兩次\n",
    "print(str + 'hello') #連接字符串\n",
    "print(r'\\n') #使转义符时效\n",
    "print(str[0:-1])"
   ]
  },
  {
   "cell_type": "code",
   "execution_count": null,
   "id": "0082b5ec",
   "metadata": {},
   "outputs": [],
   "source": [
    "#输入\n",
    "#input( \"请输入\")"
   ]
  },
  {
   "cell_type": "code",
   "execution_count": null,
   "id": "8f6feb4f",
   "metadata": {},
   "outputs": [],
   "source": [
    "#输出,print默认输出换行，末尾加上 end=\"\"则可不换行\n",
    "print('1',end='')\n",
    "print('2'+'3')"
   ]
  },
  {
   "cell_type": "markdown",
   "id": "6ea29c6d",
   "metadata": {},
   "source": [
    "基本数据类型："
   ]
  },
  {
   "cell_type": "code",
   "execution_count": null,
   "id": "6e60f891",
   "metadata": {},
   "outputs": [],
   "source": [
    "#多变量赋值\n",
    "a, b, c = 1, 2, 'hhh'\n",
    "print(a)"
   ]
  },
  {
   "cell_type": "code",
   "execution_count": null,
   "id": "8c1aeb59",
   "metadata": {
    "scrolled": true
   },
   "outputs": [],
   "source": [
    "#数值运算\n",
    "print(2/4) #除法\n",
    "print(2//4)#取模\n",
    "print(2%4)#取余\n",
    "print(2**4)#乘方"
   ]
  },
  {
   "cell_type": "code",
   "execution_count": null,
   "id": "f9a4ab60",
   "metadata": {},
   "outputs": [],
   "source": [
    "def reverseWords(input):\n",
    "     \n",
    "    # 通过空格将字符串分隔符，把各个单词分隔为列表\n",
    "    inputWords = input.split(\" \")\n",
    " \n",
    "    # 翻转字符串\n",
    "    # 假设列表 list = [1,2,3,4],  \n",
    "    # list[0]=1, list[1]=2 ，而 -1 表示最后一个元素 list[-1]=4 ( 与 list[3]=4 一样)\n",
    "    # inputWords[-1::-1] 有三个参数\n",
    "    # 第一个参数 -1 表示最后一个元素\n",
    "    # 第二个参数为空，表示移动到列表末尾\n",
    "    # 第三个参数为步长，-1 表示逆向\n",
    "    inputWords=inputWords[-1::-1]\n",
    " \n",
    "    # 重新组合字符串\n",
    "    output = ' '.join(inputWords)\n",
    "     \n",
    "    return output\n",
    " \n",
    "if __name__ == \"__main__\":\n",
    "    input = 'I like runoob !'\n",
    "    rw = reverseWords(input)\n",
    "    print(rw)"
   ]
  },
  {
   "cell_type": "code",
   "execution_count": null,
   "id": "f864ff4d",
   "metadata": {},
   "outputs": [],
   "source": [
    "#list列表\n",
    "list = [1, 2, 3, 4]\n",
    "\n",
    "#tuple元组,元素不可修改\n",
    "tuple = (1,2,3)\n",
    "    #构造0或1个元素的元组有特殊的语法规则\n",
    "tup1 = () #空元组\n",
    "tup2 = (20,)#一个元素需要加逗号\n",
    "\n",
    "#set集合，元素不会重复\n",
    "parme = {'a', 'a', 's'}\n",
    "print(parme)\n",
    "set()#创建空集合\n",
    "\n",
    "#dictionary字典，key:value对,其中key是唯一的\n",
    "dict = {}\n",
    "dict['one'] = 'hello'\n",
    "dict[2] = 'world'\n",
    "print(dict)\n",
    "print(dict.keys())\n",
    "print(dict.values())"
   ]
  },
  {
   "cell_type": "markdown",
   "id": "87ef7603",
   "metadata": {},
   "source": [
    "数学函数"
   ]
  },
  {
   "cell_type": "code",
   "execution_count": null,
   "id": "fa03a464",
   "metadata": {},
   "outputs": [],
   "source": [
    "max(a,b,c) #返回最大值\n",
    "min(x,v,d)\n",
    "pow(x,y)#  x ** y\n",
    "round(x[,n])#返回x的四舍五入值，n指定位数\n",
    "sqrt(x) #开根"
   ]
  },
  {
   "cell_type": "markdown",
   "id": "ce7430af",
   "metadata": {},
   "source": [
    "随机数函数"
   ]
  },
  {
   "cell_type": "code",
   "execution_count": null,
   "id": "82aaeaa1",
   "metadata": {},
   "outputs": [],
   "source": [
    "import randoma\n",
    "random.seed(234)#改变随机数种子\n",
    "random.choice(range(10))\n",
    "random.random()\n",
    "random.shuffle(list)#list随机排序\n",
    "print(list)\n",
    "random.uniform(2,100)"
   ]
  },
  {
   "cell_type": "markdown",
   "id": "c4ea704a",
   "metadata": {},
   "source": [
    "字符串"
   ]
  },
  {
   "cell_type": "code",
   "execution_count": null,
   "id": "7dc76945",
   "metadata": {},
   "outputs": [],
   "source": [
    "#\\r实现百分比进度,\\r 回车，回到行首\n",
    "import time\n",
    "for i in range(101):\n",
    "    print(f'\\r{i}',end=' ')\n",
    "    time.sleep(0.05)"
   ]
  },
  {
   "cell_type": "code",
   "execution_count": null,
   "id": "f7e4b603",
   "metadata": {},
   "outputs": [],
   "source": [
    "if 'h' in \"hello\":\n",
    "    print('true')"
   ]
  },
  {
   "cell_type": "code",
   "execution_count": null,
   "id": "2c75d67d",
   "metadata": {},
   "outputs": [],
   "source": [
    "#三引号多行字符\n",
    "str = \"\"\"第一行\n",
    "第二行\n",
    "第三行\n",
    "\"\"\"\n",
    "print(str)"
   ]
  },
  {
   "cell_type": "code",
   "execution_count": null,
   "id": "c6db48e2",
   "metadata": {},
   "outputs": [],
   "source": [
    "str.replace('第一行','替换行')\n",
    "print(str.replace('第一行','替换行'))\n",
    "print(str)\n",
    "\n",
    "print(str.split(\"行\"))\n",
    "\n",
    "len(str.split(\"行\"))"
   ]
  },
  {
   "cell_type": "markdown",
   "id": "bc7f9053",
   "metadata": {},
   "source": [
    "ESC + Y jupyter快速切换为代码块\n",
    "\n",
    "ESC + M 切换为markdown"
   ]
  },
  {
   "cell_type": "markdown",
   "id": "f6ff0037",
   "metadata": {},
   "source": [
    "列表"
   ]
  },
  {
   "cell_type": "code",
   "execution_count": 56,
   "id": "3fc5094b",
   "metadata": {},
   "outputs": [
    {
     "name": "stdout",
     "output_type": "stream",
     "text": [
      "[1, 2, 3, 4, 5]\n",
      "[1, 2, 4, 5, 2]\n",
      "2\n",
      "1\n",
      "[1, 2, 5, 2]\n",
      "[2, 5, 2, 1]\n",
      "[1, 2, 2, 5]\n"
     ]
    }
   ],
   "source": [
    "list = [1,2,3,4,5]\n",
    "print(list)\n",
    "del list[2]\n",
    "\n",
    "list.append(2)#末尾添加\n",
    "print(list)\n",
    "\n",
    "print(list.count(2))#元素出现的次数\n",
    "print(list.index(2))#元素第一次出现的位置\n",
    "list.remove(4)#移除第一个匹配项\n",
    "print(list)\n",
    "\n",
    "list.reverse()#反向\n",
    "print(list)\n",
    "\n",
    "list.sort()#排序\n",
    "print(list)"
   ]
  },
  {
   "cell_type": "markdown",
   "id": "82c77572",
   "metadata": {},
   "source": [
    "字典\n"
   ]
  },
  {
   "cell_type": "code",
   "execution_count": 71,
   "id": "fe258bf6",
   "metadata": {},
   "outputs": [
    {
     "name": "stdout",
     "output_type": "stream",
     "text": [
      "{'a': 2, 'b': 3}\n"
     ]
    }
   ],
   "source": [
    "dir = {'a':2, 'b':3}\n",
    "print(dir)"
   ]
  },
  {
   "cell_type": "code",
   "execution_count": 72,
   "id": "76fc7d08",
   "metadata": {},
   "outputs": [
    {
     "data": {
      "text/plain": [
       "2"
      ]
     },
     "execution_count": 72,
     "metadata": {},
     "output_type": "execute_result"
    }
   ],
   "source": [
    "dir.pop('a')"
   ]
  },
  {
   "cell_type": "code",
   "execution_count": 73,
   "id": "206d4226",
   "metadata": {},
   "outputs": [
    {
     "data": {
      "text/plain": [
       "dict_keys(['b'])"
      ]
     },
     "execution_count": 73,
     "metadata": {},
     "output_type": "execute_result"
    }
   ],
   "source": [
    "dir.keys()"
   ]
  },
  {
   "cell_type": "code",
   "execution_count": 74,
   "id": "4abf1518",
   "metadata": {},
   "outputs": [
    {
     "name": "stdout",
     "output_type": "stream",
     "text": [
      "{}\n"
     ]
    }
   ],
   "source": [
    "dir.clear()#清空字典，删除字典用del\n",
    "print(dir)"
   ]
  },
  {
   "cell_type": "markdown",
   "id": "15fb4c32",
   "metadata": {},
   "source": [
    "迭代器与生成器\n"
   ]
  },
  {
   "cell_type": "code",
   "execution_count": 1,
   "id": "e7db324f",
   "metadata": {},
   "outputs": [
    {
     "ename": "TypeError",
     "evalue": "'type' object is not iterable",
     "output_type": "error",
     "traceback": [
      "\u001b[1;31m---------------------------------------------------------------------------\u001b[0m",
      "\u001b[1;31mTypeError\u001b[0m                                 Traceback (most recent call last)",
      "Cell \u001b[1;32mIn[1], line 4\u001b[0m\n\u001b[0;32m      1\u001b[0m \u001b[38;5;66;03m#迭代器从第一个元素开始，直到所有元素被访问完。\u001b[39;00m\n\u001b[0;32m      2\u001b[0m \u001b[38;5;66;03m#iter() ,next()\u001b[39;00m\n\u001b[0;32m      3\u001b[0m \u001b[38;5;28mlist\u001b[39m\n\u001b[1;32m----> 4\u001b[0m it \u001b[38;5;241m=\u001b[39m \u001b[38;5;28;43miter\u001b[39;49m\u001b[43m(\u001b[49m\u001b[38;5;28;43mlist\u001b[39;49m\u001b[43m)\u001b[49m  \u001b[38;5;66;03m#iter()创建迭代器对象\u001b[39;00m\n\u001b[0;32m      5\u001b[0m \u001b[38;5;66;03m# print(next(it))\u001b[39;00m\n\u001b[0;32m      6\u001b[0m \u001b[38;5;28mprint\u001b[39m(\u001b[38;5;28mnext\u001b[39m(it))  \u001b[38;5;66;03m#next()输出迭代器下一元素\u001b[39;00m\n",
      "\u001b[1;31mTypeError\u001b[0m: 'type' object is not iterable"
     ]
    }
   ],
   "source": [
    "#迭代器从第一个元素开始，直到所有元素被访问完。\n",
    "#iter() ,next()\n",
    "list\n",
    "it = iter(list)  #iter()创建迭代器对象\n",
    "# print(next(it))\n",
    "print(next(it))  #next()输出迭代器下一元素\n",
    "\n",
    "for x in it:\n",
    "    print(x,end=' ')\n",
    "    \n",
    "#创建迭代器对象https://www.runoob.com/python3/python3-iterator-generator.html"
   ]
  },
  {
   "cell_type": "code",
   "execution_count": 112,
   "id": "e75f1011",
   "metadata": {},
   "outputs": [
    {
     "name": "stdout",
     "output_type": "stream",
     "text": [
      "1,2,3,4,5,6,5\n",
      "4\n",
      "3\n",
      "2\n",
      "1\n"
     ]
    }
   ],
   "source": [
    "lst = [1,2,3,4,5,6]\n",
    "for i in lst:#列表生成器\n",
    "    print(i, end=',')\n",
    "    \n",
    "#生成器：使用了yield的函数成为生成器。调用一个生成器函数，返回的是一个迭代器对象\n",
    "\n",
    "def countdown(n):\n",
    "    while n > 0:\n",
    "        yield n\n",
    "        n -= 1\n",
    " \n",
    "#创建生成器对象\n",
    "generator = countdown(5)\n",
    " \n",
    "# 通过迭代生成器获取值\n",
    "print(next(generator))  # 输出: 5\n",
    "print(next(generator))  # 输出: 4\n",
    "print(next(generator))  # 输出: 3\n",
    " \n",
    "# 使用 for 循环迭代生成器\n",
    "for value in generator:\n",
    "    print(value)  # 输出: 2 1"
   ]
  },
  {
   "cell_type": "markdown",
   "id": "4e922659",
   "metadata": {},
   "source": [
    "函数"
   ]
  },
  {
   "cell_type": "code",
   "execution_count": 2,
   "id": "7196c716",
   "metadata": {},
   "outputs": [
    {
     "name": "stdout",
     "output_type": "stream",
     "text": [
      "4\n"
     ]
    }
   ],
   "source": [
    "def find_max(x):\n",
    "    print(max(x))\n",
    "    \n",
    "list = [1,2,3,4]\n",
    "find_max(list)"
   ]
  },
  {
   "cell_type": "code",
   "execution_count": 7,
   "id": "07f5abea",
   "metadata": {},
   "outputs": [
    {
     "name": "stdout",
     "output_type": "stream",
     "text": [
      "<class 'str'>\n"
     ]
    }
   ],
   "source": [
    "a=[1,2,3]\n",
    "\n",
    "a=\"Runoob\"\n",
    "\n",
    "print(type(a))\n"
   ]
  },
  {
   "cell_type": "code",
   "execution_count": null,
   "id": "5bba3f19",
   "metadata": {},
   "outputs": [],
   "source": []
  }
 ],
 "metadata": {
  "kernelspec": {
   "display_name": "Python 3 (ipykernel)",
   "language": "python",
   "name": "python3"
  },
  "language_info": {
   "codemirror_mode": {
    "name": "ipython",
    "version": 3
   },
   "file_extension": ".py",
   "mimetype": "text/x-python",
   "name": "python",
   "nbconvert_exporter": "python",
   "pygments_lexer": "ipython3",
   "version": "3.10.2"
  }
 },
 "nbformat": 4,
 "nbformat_minor": 5
}
