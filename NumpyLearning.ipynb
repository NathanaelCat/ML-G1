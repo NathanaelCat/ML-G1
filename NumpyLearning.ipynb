{
 "cells": [
  {
   "cell_type": "markdown",
   "id": "acba5257",
   "metadata": {},
   "source": [
    "numpy安装\n",
    "\n",
    "安装 NumPy 最简单的方法就是使用 pip 工具：\n",
    "\n",
    "pip3 install --user numpy scipy matplotlib\n",
    "\n",
    "--user 选项可以设置只安装在当前的用户下，而不是写入到系统目录。\n",
    "\n",
    "默认情况使用国外线路，国外太慢，我们使用清华的镜像就可以:\n",
    "\n",
    "pip3 install numpy scipy matplotlib -i https://pypi.tuna.tsinghua.edu.cn/simple"
   ]
  },
  {
   "cell_type": "code",
   "execution_count": 91,
   "id": "9e108c8f",
   "metadata": {},
   "outputs": [
    {
     "data": {
      "text/plain": [
       "array([[1., 0., 0., 0.],\n",
       "       [0., 1., 0., 0.],\n",
       "       [0., 0., 1., 0.],\n",
       "       [0., 0., 0., 1.]])"
      ]
     },
     "execution_count": 91,
     "metadata": {},
     "output_type": "execute_result"
    }
   ],
   "source": [
    "#测试是否安装成功\n",
    "from numpy import *\n",
    "eye(4) #生成对角阵\n"
   ]
  },
  {
   "cell_type": "markdown",
   "id": "54f8abf9",
   "metadata": {},
   "source": [
    "ndarray 对象"
   ]
  },
  {
   "cell_type": "code",
   "execution_count": 92,
   "id": "160052a8",
   "metadata": {},
   "outputs": [
    {
     "name": "stdout",
     "output_type": "stream",
     "text": [
      "[[1 2]\n",
      " [3 4]]\n"
     ]
    }
   ],
   "source": [
    "import numpy as np\n",
    "a = np.array([[1,2],\n",
    "             [3,4]])\n",
    "print(a)"
   ]
  },
  {
   "cell_type": "markdown",
   "id": "700d6441",
   "metadata": {},
   "source": [
    "ndarray 属性\n",
    "\n"
   ]
  },
  {
   "cell_type": "code",
   "execution_count": 93,
   "id": "f1978ec5",
   "metadata": {},
   "outputs": [
    {
     "name": "stdout",
     "output_type": "stream",
     "text": [
      "a.ndim: 2\n",
      "a.shape: (2, 3)\n",
      "a.size: 6\n",
      "a.shape: (3, 2)\n",
      "[[1 2]\n",
      " [3 4]\n",
      " [5 6]]\n",
      "[[1 2 3]\n",
      " [4 5 6]]\n"
     ]
    }
   ],
   "source": [
    "a = np.array([[1,2,3],\n",
    "             [4,5,6]])\n",
    "print('a.ndim:',a.ndim) #a的秩rank，或数组维数\n",
    "\n",
    "print('a.shape:',a.shape)\n",
    "\n",
    "print('a.size:',a.size)\n",
    "\n",
    "#      调整数组\n",
    "#.shape也可调整数组大小\n",
    "a.shape = (3,2)\n",
    "print('a.shape:',a.shape)\n",
    "print(a)\n",
    "#.reshape()方法调整数组会改变原数组\n",
    "b = a.reshape(2,3)\n",
    "print(b)"
   ]
  },
  {
   "cell_type": "markdown",
   "id": "b04977b3",
   "metadata": {},
   "source": [
    "创建数组\n"
   ]
  },
  {
   "cell_type": "code",
   "execution_count": 94,
   "id": "23b6b579",
   "metadata": {},
   "outputs": [
    {
     "name": "stdout",
     "output_type": "stream",
     "text": [
      "x.empty:\n",
      " [[1954376064        747          0]\n",
      " [         0     131074          0]]\n",
      "y.zeros: [0. 0. 0.]\n",
      "z.ones:\n",
      " [[1. 1. 1.]\n",
      " [1. 1. 1.]]\n"
     ]
    }
   ],
   "source": [
    "x = np.empty([2,3],dtype = int ) #创建一个未初始化的数组\n",
    "print('x.empty:\\n',x)\n",
    "\n",
    "y = np.zeros((3,))#还有.zeros_like用法\n",
    "print('y.zeros:',y)\n",
    "\n",
    "z = np.ones((2,3))#还有.ones_like用法\n",
    "print('z.ones:\\n',z)\n"
   ]
  },
  {
   "cell_type": "markdown",
   "id": "fcd3f74f",
   "metadata": {},
   "source": [
    "从已有的数组创建数组"
   ]
  },
  {
   "cell_type": "code",
   "execution_count": 95,
   "id": "815d1f1c",
   "metadata": {},
   "outputs": [
    {
     "name": "stdout",
     "output_type": "stream",
     "text": [
      "[1 2 3]\n"
     ]
    }
   ],
   "source": [
    "#将列表转换为 ndarray，将列表转换为矩阵\n",
    " #其他方法https://www.runoob.com/numpy/numpy-array-from-existing-data.html\n",
    "    \n",
    "#x =  [1,2,3] \n",
    "x =range(1,4)\n",
    "a = np.asarray(x)  \n",
    "print (a)\n",
    "#help(range)"
   ]
  },
  {
   "cell_type": "markdown",
   "id": "09481d3e",
   "metadata": {},
   "source": [
    "从数值范围创建数组\n"
   ]
  },
  {
   "cell_type": "code",
   "execution_count": 96,
   "id": "b037267f",
   "metadata": {},
   "outputs": [
    {
     "name": "stdout",
     "output_type": "stream",
     "text": [
      "[4 6 8]\n",
      "(array([ 1.  ,  3.25,  5.5 ,  7.75, 10.  ]), 2.25)\n",
      "[1.00000000e+001 3.16227766e+050 1.00000000e+100]\n",
      "[2 4 5]\n",
      "[3 4 5]\n",
      "[[2 3]\n",
      " [4 5]\n",
      " [5 6]]\n"
     ]
    }
   ],
   "source": [
    "a = np.arange(4,10,2)\n",
    "print(a)\n",
    "\n",
    "a = np.linspace(1,10,5,retstep = 1)#一维等差数组，并显示步长\n",
    "print(a)\n",
    "\n",
    "a = np.logspace(1,100,3)#一维等比数组\n",
    "print(a)\n",
    "\n",
    "#切片还可以包括省略号 …，来使选择元组的长度与数组的维度相同\n",
    "a = np.array([[1,2,3],[3,4,5],[4,5,6]])  \n",
    "print (a[...,1])   # 第2列元素\n",
    "print (a[1,...])   # 第2行元素\n",
    "print (a[...,1:])  # 第2列及剩下的所有元素"
   ]
  },
  {
   "attachments": {
    "image.png": {
     "image/png": "[encoded data removed]"
    }
   },
   "cell_type": "markdown",
   "id": "bea41ea3",
   "metadata": {},
   "source": [
    "广播(broadcast),对shape不同的数组计算\n",
    "![image.png](attachment:image.png)"
   ]
  },
  {
   "cell_type": "markdown",
   "id": "32df1591",
   "metadata": {},
   "source": [
    "迭代数组"
   ]
  },
  {
   "cell_type": "code",
   "execution_count": 97,
   "id": "b3943ddc",
   "metadata": {},
   "outputs": [
    {
     "name": "stdout",
     "output_type": "stream",
     "text": [
      "[[0 1 2]\n",
      " [3 4 5]\n",
      " [6 7 8]] \n",
      "\n",
      "0,1,2,3,4,5,6,7,8,\n",
      "\n",
      "0,3,6,1,4,7,2,5,8,修改后的数组是：\n",
      "[[ 0  2  4]\n",
      " [ 6  8 10]\n",
      " [12 14 16]]\n"
     ]
    }
   ],
   "source": [
    "#以行或列形式迭代\n",
    "a = np.arange(9).reshape(3,3)\n",
    "print(a,'\\n')\n",
    "\n",
    "for x in np.nditer(a,order = 'c'):\n",
    "    print(x,end=',')\n",
    "print('\\n')\n",
    "for x in np.nditer(a,order = 'f'):\n",
    "    print(x,end=',')\n",
    "    \n",
    "    \n",
    "#修改元素值\n",
    "for x in np.nditer(a, op_flags=['readwrite']): \n",
    "    x[...]=2*x \n",
    "print ('修改后的数组是：')\n",
    "print (a)\n",
    "\n",
    "#迭代也有广播形式"
   ]
  },
  {
   "cell_type": "markdown",
   "id": "6f0e2630",
   "metadata": {},
   "source": [
    "数组操作"
   ]
  },
  {
   "cell_type": "code",
   "execution_count": 98,
   "id": "e630767f",
   "metadata": {},
   "outputs": [
    {
     "name": "stdout",
     "output_type": "stream",
     "text": [
      "原始数组：\n",
      "[0 1 2]\n",
      "[3 4 5]\n",
      "[6 7 8]\n",
      "迭代后的数组：\n",
      "0\n",
      "1\n",
      "2\n",
      "3\n",
      "4\n",
      "5\n",
      "6\n",
      "7\n",
      "8\n"
     ]
    }
   ],
   "source": [
    "#.reshape\n",
    "\n",
    "#numpy.ndarray.flat 是一个数组元素迭代器\n",
    "a = np.arange(9).reshape(3,3) \n",
    "print ('原始数组：')\n",
    "for row in a:\n",
    "    print (row)\n",
    " \n",
    "#对数组中每个元素都进行处理，可以使用flat属性，该属性是一个数组元素迭代器：\n",
    "print ('迭代后的数组：')\n",
    "for element in a.flat:\n",
    "    print (element)"
   ]
  },
  {
   "cell_type": "code",
   "execution_count": 99,
   "id": "411a74f1",
   "metadata": {},
   "outputs": [
    {
     "name": "stdout",
     "output_type": "stream",
     "text": [
      "[0 1 2 3 4 5]\n",
      "[[0 1 2]\n",
      " [3 4 5]]\n",
      "[0 1 2 3 4 5]\n"
     ]
    }
   ],
   "source": [
    "a = np.arange(6)\n",
    "print(a)\n",
    "\n",
    "b = a.reshape(2,3)\n",
    "print(b)\n",
    "print(a)"
   ]
  },
  {
   "cell_type": "markdown",
   "id": "6d84c7ef",
   "metadata": {},
   "source": [
    "Matplotlib"
   ]
  },
  {
   "cell_type": "code",
   "execution_count": 114,
   "id": "8e5b4263",
   "metadata": {},
   "outputs": [
    {
     "data": {
      "image/png": "[encoded data removed]",
      "text/plain": [
       "<Figure size 640x480 with 1 Axes>"
      ]
     },
     "metadata": {},
     "output_type": "display_data"
    },
    {
     "data": {
      "image/png": "[encoded data removed]",
      "text/plain": [
       "<Figure size 640x480 with 2 Axes>"
      ]
     },
     "metadata": {},
     "output_type": "display_data"
    }
   ],
   "source": [
    "from matplotlib import pyplot as plt\n",
    "x = np.arange(1,11) \n",
    "y =  2  * x +  5 \n",
    "plt.title(\"Matplotlib demo\") \n",
    "plt.xlabel(\"x axis caption\") \n",
    "plt.ylabel(\"y axis caption\") \n",
    "plt.plot(x,y) \n",
    "plt.show()\n",
    "\n",
    "#subplot()函数允许你在同一图中绘制不同的东西\n",
    "# 计算正弦和余弦曲线上的点的 x 和 y 坐标 \n",
    "x = np.arange(0,  3  * np.pi,  0.1) \n",
    "y_sin = np.sin(x) \n",
    "y_cos = np.cos(x)  \n",
    "# 建立 subplot 网格，高为 2，宽为 1  \n",
    "# 激活第一个 subplot\n",
    "plt.subplot(2,  1,  1)  \n",
    "# 绘制第一个图像 \n",
    "plt.plot(x, y_sin) \n",
    "plt.title('Sine')  \n",
    "# 将第二个 subplot 激活，并绘制第二个图像\n",
    "plt.subplot(2,  1,  2) \n",
    "plt.plot(x, y_cos) \n",
    "plt.title('Cosine')  \n",
    "# 展示图像\n",
    "plt.show()"
   ]
  },
  {
   "cell_type": "markdown",
   "id": "c408e781",
   "metadata": {},
   "source": [
    "基础运算"
   ]
  },
  {
   "cell_type": "code",
   "execution_count": 101,
   "id": "0cceb086",
   "metadata": {},
   "outputs": [
    {
     "name": "stdout",
     "output_type": "stream",
     "text": [
      "[[1 2 3]\n",
      " [4 5 6]\n",
      " [7 8 9]]\n",
      "[[10 11 12]\n",
      " [13 14 15]\n",
      " [16 17 18]]\n",
      "[[ 10  22  36]\n",
      " [ 52  70  90]\n",
      " [112 136 162]]\n",
      "[[ 84  90  96]\n",
      " [201 216 231]\n",
      " [318 342 366]]\n",
      "[[ 84  90  96]\n",
      " [201 216 231]\n",
      " [318 342 366]]\n"
     ]
    }
   ],
   "source": [
    "a = np.arange(1,10).reshape(3,3)\n",
    "b = np.arange(10,19).reshape(3,3)\n",
    "print(f'{a}\\n{b}')\n",
    "#叉乘和点乘\n",
    "print(a*b)\n",
    "print(np.dot(a,b))\n",
    "print(a.dot(b))"
   ]
  },
  {
   "cell_type": "code",
   "execution_count": 102,
   "id": "0a9f4820",
   "metadata": {},
   "outputs": [
    {
     "name": "stdout",
     "output_type": "stream",
     "text": [
      "[[0.46191603 0.170883   0.44621956 0.89575227]\n",
      " [0.68423337 0.09539691 0.92921624 0.31588881]] \n",
      "\n",
      "[1.97477087 2.02473533]\n",
      "[0.46191603 0.09539691 0.44621956 0.31588881]\n",
      "0.4999382744659371\n",
      "0.4540677936965856\n",
      "5\n",
      "[[0.46191603 0.68423337]\n",
      " [0.170883   0.09539691]\n",
      " [0.44621956 0.92921624]\n",
      " [0.89575227 0.31588881]]\n",
      "[[0.4        0.3        0.4        0.4       ]\n",
      " [0.4        0.3        0.4        0.31588881]]\n"
     ]
    }
   ],
   "source": [
    "a =  np.random.random((2,4))\n",
    "\n",
    "print(a,'\\n')\n",
    "print(a.sum(axis = 1))\n",
    "print(a.min(axis = 0))\n",
    "print(a.mean())\n",
    "print(np.median(a))\n",
    "print(a.argmin())#给出最小值的索引\n",
    "\n",
    "print(a.T)\n",
    "print(a.clip(0.3,0.4)) #截断"
   ]
  },
  {
   "cell_type": "code",
   "execution_count": 103,
   "id": "c2aa9efd",
   "metadata": {},
   "outputs": [
    {
     "name": "stdout",
     "output_type": "stream",
     "text": [
      "[ 2  3  4  5  6  7  8  9 10 11 12 13]\n",
      "2\n",
      "3\n",
      "4\n",
      "5\n",
      "6\n",
      "7\n",
      "8\n",
      "9\n",
      "10\n",
      "11\n",
      "12\n",
      "13\n"
     ]
    }
   ],
   "source": [
    "#扁平化，迭代输出\n",
    "a = np.arange(2,14).reshape(3,4)\n",
    "print(a.flatten())\n",
    "for item in a.flat:\n",
    "    print(item)"
   ]
  },
  {
   "cell_type": "markdown",
   "id": "b229e7d3",
   "metadata": {},
   "source": [
    "数组合并"
   ]
  },
  {
   "cell_type": "code",
   "execution_count": 104,
   "id": "c7c67627",
   "metadata": {},
   "outputs": [
    {
     "name": "stdout",
     "output_type": "stream",
     "text": [
      "[0 1 2] [3 4 5]\n",
      "v [[0 1 2]\n",
      " [3 4 5]]\n",
      "h [0 1 2 3 4 5]\n",
      "g: [0 1 2 3 4 5]\n",
      "[[0]\n",
      " [1]\n",
      " [2]]\n",
      "[[0]\n",
      " [1]\n",
      " [2]]\n"
     ]
    }
   ],
   "source": [
    "a = np.arange(3)\n",
    "b = np.arange(3,6)\n",
    "print(a,b)\n",
    "\n",
    "#垂直，水平堆叠\n",
    "c = np.vstack((a,b))\n",
    "print('v',c)\n",
    "d = np.hstack((a,b))\n",
    "print('h',d)\n",
    "\n",
    "#通用合并、堆叠\n",
    "g = np.concatenate((a,b),axis = 0)\n",
    "print('g:',g)\n",
    "#增加维度\n",
    "#e = np.arange(3).reshape(3,1)\n",
    "e = np.arange(3)[:,np.newaxis]\n",
    "print(e)\n",
    "\n",
    "f = np.arange(3)\n",
    "print(a[:,np.newaxis])\n",
    "\n"
   ]
  },
  {
   "cell_type": "markdown",
   "id": "300a4d28",
   "metadata": {},
   "source": [
    "分割\n"
   ]
  },
  {
   "cell_type": "code",
   "execution_count": 105,
   "id": "72e23d89",
   "metadata": {},
   "outputs": [
    {
     "name": "stdout",
     "output_type": "stream",
     "text": [
      "[array([[0, 1, 2, 3]]), array([[4, 5, 6, 7]]), array([[ 8,  9, 10, 11]])]\n"
     ]
    }
   ],
   "source": [
    "a = np.arange(12).reshape(3,4)\n",
    "\n",
    "print(np.split(a,3,axis=0))\n",
    "# np.array_split()  不等分分割\n",
    "# np.vsplit() 竖向分割\n"
   ]
  },
  {
   "cell_type": "markdown",
   "id": "6bae3992",
   "metadata": {},
   "source": [
    "浅拷贝和深拷贝"
   ]
  },
  {
   "cell_type": "code",
   "execution_count": 106,
   "id": "abdaee5d",
   "metadata": {},
   "outputs": [
    {
     "name": "stdout",
     "output_type": "stream",
     "text": [
      "[[ 0  1  2  3]\n",
      " [ 4  5  6  7]\n",
      " [ 8  9 10  0]]\n",
      "[[ 0  1  2  3]\n",
      " [ 4  5  6  7]\n",
      " [ 8  9 10  0]]\n"
     ]
    }
   ],
   "source": [
    "#浅拷贝，是同一个内存地址，会改变原数组\n",
    "\n",
    "a = np.arange(12).reshape(3,4)\n",
    "b = a\n",
    "b[2,3] = 0\n",
    "print(a)\n",
    "\n",
    "#深拷贝，不会改变\n",
    "\n",
    "c = a.copy()\n",
    "c[2,2] = 0\n",
    "print(a)"
   ]
  }
 ],
 "metadata": {
  "kernelspec": {
   "display_name": "Python 3 (ipykernel)",
   "language": "python",
   "name": "python3"
  },
  "language_info": {
   "codemirror_mode": {
    "name": "ipython",
    "version": 3
   },
   "file_extension": ".py",
   "mimetype": "text/x-python",
   "name": "python",
   "nbconvert_exporter": "python",
   "pygments_lexer": "ipython3",
   "version": "3.10.2"
  }
 },
 "nbformat": 4,
 "nbformat_minor": 5
}
