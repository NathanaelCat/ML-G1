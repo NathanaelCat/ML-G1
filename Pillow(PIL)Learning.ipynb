{
 "cells": [
  {
   "cell_type": "code",
   "execution_count": null,
   "id": "efea57f8",
   "metadata": {},
   "outputs": [],
   "source": [
    "from PIL import Image,ImageDraw,ImageFont\n",
    "import os\n",
    "import glob"
   ]
  },
  {
   "cell_type": "markdown",
   "id": "350d75e3",
   "metadata": {},
   "source": [
    "图像基本信息"
   ]
  },
  {
   "cell_type": "code",
   "execution_count": null,
   "id": "dc49b586",
   "metadata": {},
   "outputs": [],
   "source": [
    "image  = Image.open('test1.jpg')\n",
    "\n",
    "print(image.filename)\n",
    "print(image.format)\n",
    "print(image.mode)\n",
    "print(image.size)\n",
    "print(image.info)\n",
    "\n",
    "#获取像素点的RGB\n",
    "print(image.getpixel((128,256)))"
   ]
  },
  {
   "cell_type": "markdown",
   "id": "886c0184",
   "metadata": {},
   "source": [
    "图像变换 convert\n"
   ]
  },
  {
   "cell_type": "code",
   "execution_count": null,
   "id": "21d6f14e",
   "metadata": {},
   "outputs": [],
   "source": [
    "# 1位像素图\n",
    "image.convert(\"1\").save(\"img1_pixels.png\",quality=100)\n",
    "# 8位灰度图\n",
    "image.convert(\"L\").save(\"imgL_grayscale.png\", quality=100)\n",
    "# 8位彩图\n",
    "image.convert(\"P\").save(\"imgP 8 bit colors.png\", quality=100)"
   ]
  },
  {
   "cell_type": "markdown",
   "id": "d7be44f0",
   "metadata": {},
   "source": [
    "图像剪切 crop"
   ]
  },
  {
   "cell_type": "code",
   "execution_count": null,
   "id": "60f93857",
   "metadata": {},
   "outputs": [],
   "source": [
    "# 图片剪切:开始点x1，开始点y1,结東点x2,结束点y2\n",
    "image.crop((540,300,1000,1000)).save(\"img_crop.jpg\")\n",
    "image.close()"
   ]
  },
  {
   "cell_type": "markdown",
   "id": "f5c86ad6",
   "metadata": {},
   "source": [
    "图像旋转 rotate"
   ]
  },
  {
   "cell_type": "code",
   "execution_count": null,
   "id": "ddcaf914",
   "metadata": {},
   "outputs": [],
   "source": [
    "image.rotate(30).save(\"img rotate 30.png\")\n",
    "image.rotate(-30).save(\"img rotate_-30.png\")\n",
    "image.rotate(30, Image.NEAREST, True).save(\"img rotate 30 expand.png\")\n",
    "#NEAREST算法，expand = Ture"
   ]
  },
  {
   "cell_type": "markdown",
   "id": "ac17ab69",
   "metadata": {},
   "source": [
    "调整大小 resize"
   ]
  },
  {
   "cell_type": "code",
   "execution_count": null,
   "id": "215841dd",
   "metadata": {},
   "outputs": [],
   "source": [
    "#指定大小\n",
    "img_resize = image.resize((200,200),Image.NEAREST).save('img_resize.jpg')"
   ]
  },
  {
   "cell_type": "code",
   "execution_count": null,
   "id": "a96bc154",
   "metadata": {},
   "outputs": [],
   "source": [
    "#宽高减半\n",
    "img_resize2 = image.resize((image.width//2,image.height//2),Image.NEAREST)\n",
    "img_resize2.save('img_resize2.jpg')"
   ]
  },
  {
   "cell_type": "markdown",
   "id": "dd783a6f",
   "metadata": {},
   "source": [
    "绘图"
   ]
  },
  {
   "cell_type": "code",
   "execution_count": null,
   "id": "0c7b7fe8",
   "metadata": {},
   "outputs": [],
   "source": [
    "image_draw = ImageDraw.Draw(image)\n",
    "# 画线\n",
    "image_draw.line((0, image.height, image.width, 0), fill=(255, 0, 0), width=8)\n",
    "# 矩形\n",
    "image_draw.rectangle((100,100,200,200),fill=(0, 255, 0))# 圆形image_draw.ellipse((250, 300, 450, 400),fill=(0, 0, 255))\n",
    "# 写字\n",
    "image_font = ImageFont.truetype(\"C:\\WindowslFonts\\msyh.ttc\", size=48)\n",
    "image_draw.multiline_text((0, 0), 'Pillow is good!', fill=(255,255, 0), font = image_font)\n",
    "image.save(\"img edited.png\")"
   ]
  },
  {
   "cell_type": "markdown",
   "id": "5126abd4",
   "metadata": {},
   "source": [
    "批处理"
   ]
  },
  {
   "cell_type": "code",
   "execution_count": null,
   "id": "d518ef0c",
   "metadata": {},
   "outputs": [],
   "source": [
    "files = glob.glob('F:\\Projects\\pythonReview\\*.png')\n",
    "name_file = open('name_files.txt','w')\n",
    "for file in files:\n",
    "    img = Image.open(file)\n",
    "    #name_file.write(f'{img.filename},\\n')\n",
    "    name_file.write(f'{os.path.basename(img.filename)},\\n')\n",
    "    \n",
    "name_file.close()\n",
    "    "
   ]
  }
 ],
 "metadata": {
  "kernelspec": {
   "display_name": "Python 3 (ipykernel)",
   "language": "python",
   "name": "python3"
  },
  "language_info": {
   "codemirror_mode": {
    "name": "ipython",
    "version": 3
   },
   "file_extension": ".py",
   "mimetype": "text/x-python",
   "name": "python",
   "nbconvert_exporter": "python",
   "pygments_lexer": "ipython3",
   "version": "3.10.2"
  }
 },
 "nbformat": 4,
 "nbformat_minor": 5
}
