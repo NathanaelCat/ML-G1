{
 "cells": [
  {
   "cell_type": "code",
   "execution_count": 50,
   "id": "ebf1639f",
   "metadata": {},
   "outputs": [],
   "source": [
    "import os\n",
    "from PIL import Image\n",
    "\n",
    "path = r'F:\\Projects\\pythonReview\\Task1.1'\n",
    "img_path = r'F:\\Projects\\pythonReview\\Pillow(PIL)Learning-img'\n",
    "\n",
    "iphone5_resolution = (1136, 640)\n",
    "\n",
    "img_files = [f for f in os.listdir(img_path) if f.endswith('.jpg') or f.endswith('.png')]\n",
    "\n",
    "def get_names():\n",
    "    with open(path + r'\\file_names.txt','w') as file_names:\n",
    "        for img_name in img_files:\n",
    "            file_names.write(img_name + '\\n')\n",
    "        \n",
    "get_names()\n",
    "\n",
    "def img_resize():\n",
    "    for img_name in img_files:\n",
    "        img = Image.open(os.path.join(img_path,img_name))\n",
    "    # img = Image.open(img_path + '\\\\' + img_name )\n",
    "        img_rgb = img.convert('RGB')\n",
    "        img_reseize = img_rgb.resize(iphone5_resolution).save(os.path.join(path,img_name)+'_resize.jpg')\n",
    "        \n",
    "img_resize()"
   ]
  },
  {
   "cell_type": "code",
   "execution_count": null,
   "id": "739ae1a6",
   "metadata": {},
   "outputs": [],
   "source": []
  }
 ],
 "metadata": {
  "kernelspec": {
   "display_name": "Python 3 (ipykernel)",
   "language": "python",
   "name": "python3"
  },
  "language_info": {
   "codemirror_mode": {
    "name": "ipython",
    "version": 3
   },
   "file_extension": ".py",
   "mimetype": "text/x-python",
   "name": "python",
   "nbconvert_exporter": "python",
   "pygments_lexer": "ipython3",
   "version": "3.10.2"
  }
 },
 "nbformat": 4,
 "nbformat_minor": 5
}
